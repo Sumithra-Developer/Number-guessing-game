{
 "cells": [
  {
   "cell_type": "code",
   "execution_count": 1,
   "id": "8550fecd",
   "metadata": {},
   "outputs": [
    {
     "name": "stdout",
     "output_type": "stream",
     "text": [
      "Welcome to number guessing game.\n",
      "Enter the Lower bound:1\n",
      "enter the Upper bound:10\n",
      "Enter the guessing number. You have only 5 attempts:5\n",
      "5 is too high.\n",
      "Enter the guessing number. You have only 5 attempts:3\n",
      "Correct! the number is 3.\n",
      "Thank you.\n"
     ]
    }
   ],
   "source": [
    "import random as rand\n",
    "\n",
    "print(\"Welcome to number guessing game.\")\n",
    "\n",
    "low=int(input(\"Enter the Lower bound:\"))\n",
    "high=int(input(\"enter the Upper bound:\"))\n",
    "        \n",
    "num=rand.randint(low,high)\n",
    "\n",
    "for attempts in range(5):\n",
    "    user=int(input(\"Enter the guessing number. You have only 5 attempts:\"))\n",
    "\n",
    "    if user==num:\n",
    "        print(f\"Correct! the number is {user}.\")\n",
    "        break\n",
    "    elif user>num or user>high:\n",
    "        print(f\"{user} is too high.\")\n",
    "    elif user<num or user<high:\n",
    "        print(f\"{user} is too low.\")\n",
    "else:\n",
    "    print(\"Try again, your attemptes are finished.\")      \n",
    "print(\"Thank you.\")\n"
   ]
  },
  {
   "cell_type": "code",
   "execution_count": 3,
   "id": "4e7519b6",
   "metadata": {},
   "outputs": [],
   "source": []
  },
  {
   "cell_type": "code",
   "execution_count": null,
   "id": "d1018906",
   "metadata": {},
   "outputs": [],
   "source": []
  },
  {
   "cell_type": "code",
   "execution_count": null,
   "id": "a72d6687",
   "metadata": {},
   "outputs": [],
   "source": []
  }
 ],
 "metadata": {
  "kernelspec": {
   "display_name": "Python 3 (ipykernel)",
   "language": "python",
   "name": "python3"
  },
  "language_info": {
   "codemirror_mode": {
    "name": "ipython",
    "version": 3
   },
   "file_extension": ".py",
   "mimetype": "text/x-python",
   "name": "python",
   "nbconvert_exporter": "python",
   "pygments_lexer": "ipython3",
   "version": "3.7.9"
  }
 },
 "nbformat": 4,
 "nbformat_minor": 5
}
